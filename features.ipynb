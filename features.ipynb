{
 "cells": [
  {
   "cell_type": "code",
   "execution_count": 2,
   "metadata": {},
   "outputs": [],
   "source": [
    "# ! pip install asyncpg"
   ]
  },
  {
   "cell_type": "code",
   "execution_count": 3,
   "metadata": {},
   "outputs": [],
   "source": [
    "%run credentials.ipynb"
   ]
  },
  {
   "cell_type": "code",
   "execution_count": 4,
   "metadata": {},
   "outputs": [],
   "source": [
    "import asyncio\n",
    "import asyncpg\n",
    "\n",
    "import pandas as pd\n",
    "import numpy as np"
   ]
  },
  {
   "cell_type": "code",
   "execution_count": 5,
   "metadata": {},
   "outputs": [],
   "source": [
    "import matplotlib.pyplot as plt"
   ]
  },
  {
   "cell_type": "code",
   "execution_count": 6,
   "metadata": {},
   "outputs": [],
   "source": [
    "conn = await asyncpg.connect(\n",
    "    user=user, password=password,\n",
    "    database=dbname,\n",
    "    host=host, port=port,\n",
    "    ssl='require'\n",
    ")\n",
    "# await conn.close()"
   ]
  },
  {
   "cell_type": "code",
   "execution_count": 7,
   "metadata": {},
   "outputs": [],
   "source": [
    "async def query_res_to_df(query):\n",
    "    data = await conn.fetch(query)\n",
    "\n",
    "    return pd.DataFrame(data, columns=list(data[0].keys()))"
   ]
  },
  {
   "cell_type": "code",
   "execution_count": 8,
   "metadata": {},
   "outputs": [
    {
     "data": {
      "text/html": [
       "<div>\n",
       "<style scoped>\n",
       "    .dataframe tbody tr th:only-of-type {\n",
       "        vertical-align: middle;\n",
       "    }\n",
       "\n",
       "    .dataframe tbody tr th {\n",
       "        vertical-align: top;\n",
       "    }\n",
       "\n",
       "    .dataframe thead th {\n",
       "        text-align: right;\n",
       "    }\n",
       "</style>\n",
       "<table border=\"1\" class=\"dataframe\">\n",
       "  <thead>\n",
       "    <tr style=\"text-align: right;\">\n",
       "      <th></th>\n",
       "      <th>id</th>\n",
       "      <th>user_id</th>\n",
       "      <th>total_cost</th>\n",
       "      <th>cost</th>\n",
       "      <th>item_total</th>\n",
       "      <th>promo_total</th>\n",
       "      <th>total_weight</th>\n",
       "      <th>total_quantity</th>\n",
       "      <th>state</th>\n",
       "      <th>shipped_at</th>\n",
       "      <th>created_at</th>\n",
       "      <th>ship_address_id</th>\n",
       "      <th>store_id</th>\n",
       "      <th>delivery_window_id</th>\n",
       "    </tr>\n",
       "  </thead>\n",
       "  <tbody>\n",
       "    <tr>\n",
       "      <th>0</th>\n",
       "      <td>3158715</td>\n",
       "      <td>61138</td>\n",
       "      <td>290.0</td>\n",
       "      <td>290.0</td>\n",
       "      <td>2543</td>\n",
       "      <td>0.0</td>\n",
       "      <td>89906</td>\n",
       "      <td>35</td>\n",
       "      <td>shipped</td>\n",
       "      <td>2018-01-05 10:50:00</td>\n",
       "      <td>2018-01-05 00:07:04</td>\n",
       "      <td>448086</td>\n",
       "      <td>2</td>\n",
       "      <td>75258</td>\n",
       "    </tr>\n",
       "    <tr>\n",
       "      <th>1</th>\n",
       "      <td>3182881</td>\n",
       "      <td>73307</td>\n",
       "      <td>190.0</td>\n",
       "      <td>190.0</td>\n",
       "      <td>6076</td>\n",
       "      <td>0.0</td>\n",
       "      <td>30275</td>\n",
       "      <td>52</td>\n",
       "      <td>shipped</td>\n",
       "      <td>2018-01-06 15:33:54</td>\n",
       "      <td>2018-01-05 02:04:42</td>\n",
       "      <td>450946</td>\n",
       "      <td>10</td>\n",
       "      <td>75860</td>\n",
       "    </tr>\n",
       "  </tbody>\n",
       "</table>\n",
       "</div>"
      ],
      "text/plain": [
       "        id  user_id  total_cost   cost  item_total  promo_total  total_weight  \\\n",
       "0  3158715    61138       290.0  290.0        2543          0.0         89906   \n",
       "1  3182881    73307       190.0  190.0        6076          0.0         30275   \n",
       "\n",
       "   total_quantity    state          shipped_at          created_at  \\\n",
       "0              35  shipped 2018-01-05 10:50:00 2018-01-05 00:07:04   \n",
       "1              52  shipped 2018-01-06 15:33:54 2018-01-05 02:04:42   \n",
       "\n",
       "   ship_address_id  store_id  delivery_window_id  \n",
       "0           448086         2               75258  \n",
       "1           450946        10               75860  "
      ]
     },
     "execution_count": 8,
     "metadata": {},
     "output_type": "execute_result"
    }
   ],
   "source": [
    "orders_sample = await query_res_to_df('select * from orders limit 2')\n",
    "orders_sample"
   ]
  },
  {
   "cell_type": "code",
   "execution_count": 9,
   "metadata": {},
   "outputs": [
    {
     "data": {
      "text/html": [
       "<div>\n",
       "<style scoped>\n",
       "    .dataframe tbody tr th:only-of-type {\n",
       "        vertical-align: middle;\n",
       "    }\n",
       "\n",
       "    .dataframe tbody tr th {\n",
       "        vertical-align: top;\n",
       "    }\n",
       "\n",
       "    .dataframe thead th {\n",
       "        text-align: right;\n",
       "    }\n",
       "</style>\n",
       "<table border=\"1\" class=\"dataframe\">\n",
       "  <thead>\n",
       "    <tr style=\"text-align: right;\">\n",
       "      <th></th>\n",
       "      <th>store_id</th>\n",
       "      <th>id</th>\n",
       "      <th>starts_at</th>\n",
       "      <th>ends_at</th>\n",
       "      <th>time_zone</th>\n",
       "    </tr>\n",
       "  </thead>\n",
       "  <tbody>\n",
       "    <tr>\n",
       "      <th>0</th>\n",
       "      <td>2</td>\n",
       "      <td>75258</td>\n",
       "      <td>2018-01-05 08:00:00</td>\n",
       "      <td>2018-01-05 10:00:00</td>\n",
       "      <td>Europe/Moscow</td>\n",
       "    </tr>\n",
       "    <tr>\n",
       "      <th>1</th>\n",
       "      <td>10</td>\n",
       "      <td>75860</td>\n",
       "      <td>2018-01-06 15:00:00</td>\n",
       "      <td>2018-01-06 17:00:00</td>\n",
       "      <td>Europe/Moscow</td>\n",
       "    </tr>\n",
       "    <tr>\n",
       "      <th>2</th>\n",
       "      <td>14</td>\n",
       "      <td>78635</td>\n",
       "      <td>2018-01-11 06:00:00</td>\n",
       "      <td>2018-01-11 08:00:00</td>\n",
       "      <td>Europe/Moscow</td>\n",
       "    </tr>\n",
       "    <tr>\n",
       "      <th>3</th>\n",
       "      <td>21</td>\n",
       "      <td>75403</td>\n",
       "      <td>2018-01-05 09:00:00</td>\n",
       "      <td>2018-01-05 11:00:00</td>\n",
       "      <td>Europe/Moscow</td>\n",
       "    </tr>\n",
       "    <tr>\n",
       "      <th>4</th>\n",
       "      <td>3</td>\n",
       "      <td>75825</td>\n",
       "      <td>2018-01-06 16:00:00</td>\n",
       "      <td>2018-01-06 18:00:00</td>\n",
       "      <td>Europe/Moscow</td>\n",
       "    </tr>\n",
       "  </tbody>\n",
       "</table>\n",
       "</div>"
      ],
      "text/plain": [
       "   store_id     id           starts_at             ends_at      time_zone\n",
       "0         2  75258 2018-01-05 08:00:00 2018-01-05 10:00:00  Europe/Moscow\n",
       "1        10  75860 2018-01-06 15:00:00 2018-01-06 17:00:00  Europe/Moscow\n",
       "2        14  78635 2018-01-11 06:00:00 2018-01-11 08:00:00  Europe/Moscow\n",
       "3        21  75403 2018-01-05 09:00:00 2018-01-05 11:00:00  Europe/Moscow\n",
       "4         3  75825 2018-01-06 16:00:00 2018-01-06 18:00:00  Europe/Moscow"
      ]
     },
     "execution_count": 9,
     "metadata": {},
     "output_type": "execute_result"
    }
   ],
   "source": [
    "delivery_windows_sample = await query_res_to_df('select * from delivery_windows limit 5')\n",
    "delivery_windows_sample"
   ]
  },
  {
   "cell_type": "code",
   "execution_count": 10,
   "metadata": {},
   "outputs": [
    {
     "data": {
      "text/html": [
       "<div>\n",
       "<style scoped>\n",
       "    .dataframe tbody tr th:only-of-type {\n",
       "        vertical-align: middle;\n",
       "    }\n",
       "\n",
       "    .dataframe tbody tr th {\n",
       "        vertical-align: top;\n",
       "    }\n",
       "\n",
       "    .dataframe thead th {\n",
       "        text-align: right;\n",
       "    }\n",
       "</style>\n",
       "<table border=\"1\" class=\"dataframe\">\n",
       "  <thead>\n",
       "    <tr style=\"text-align: right;\">\n",
       "      <th></th>\n",
       "      <th>id</th>\n",
       "      <th>city</th>\n",
       "      <th>retailer_id</th>\n",
       "    </tr>\n",
       "  </thead>\n",
       "  <tbody>\n",
       "    <tr>\n",
       "      <th>0</th>\n",
       "      <td>1</td>\n",
       "      <td>1</td>\n",
       "      <td>1</td>\n",
       "    </tr>\n",
       "    <tr>\n",
       "      <th>1</th>\n",
       "      <td>2</td>\n",
       "      <td>1</td>\n",
       "      <td>1</td>\n",
       "    </tr>\n",
       "    <tr>\n",
       "      <th>2</th>\n",
       "      <td>3</td>\n",
       "      <td>1</td>\n",
       "      <td>1</td>\n",
       "    </tr>\n",
       "    <tr>\n",
       "      <th>3</th>\n",
       "      <td>8</td>\n",
       "      <td>1</td>\n",
       "      <td>1</td>\n",
       "    </tr>\n",
       "    <tr>\n",
       "      <th>4</th>\n",
       "      <td>9</td>\n",
       "      <td>1</td>\n",
       "      <td>1</td>\n",
       "    </tr>\n",
       "  </tbody>\n",
       "</table>\n",
       "</div>"
      ],
      "text/plain": [
       "   id  city  retailer_id\n",
       "0   1     1            1\n",
       "1   2     1            1\n",
       "2   3     1            1\n",
       "3   8     1            1\n",
       "4   9     1            1"
      ]
     },
     "execution_count": 10,
     "metadata": {},
     "output_type": "execute_result"
    }
   ],
   "source": [
    "stores_sample = await query_res_to_df('select * from stores limit 5')\n",
    "stores_sample"
   ]
  },
  {
   "cell_type": "code",
   "execution_count": 11,
   "metadata": {},
   "outputs": [
    {
     "data": {
      "text/html": [
       "<div>\n",
       "<style scoped>\n",
       "    .dataframe tbody tr th:only-of-type {\n",
       "        vertical-align: middle;\n",
       "    }\n",
       "\n",
       "    .dataframe tbody tr th {\n",
       "        vertical-align: top;\n",
       "    }\n",
       "\n",
       "    .dataframe thead th {\n",
       "        text-align: right;\n",
       "    }\n",
       "</style>\n",
       "<table border=\"1\" class=\"dataframe\">\n",
       "  <thead>\n",
       "    <tr style=\"text-align: right;\">\n",
       "      <th></th>\n",
       "      <th>lat</th>\n",
       "      <th>lon</th>\n",
       "      <th>id</th>\n",
       "      <th>elevator</th>\n",
       "      <th>floor</th>\n",
       "    </tr>\n",
       "  </thead>\n",
       "  <tbody>\n",
       "    <tr>\n",
       "      <th>0</th>\n",
       "      <td>55.872131</td>\n",
       "      <td>37.640294</td>\n",
       "      <td>6017</td>\n",
       "      <td>passenger</td>\n",
       "      <td>4</td>\n",
       "    </tr>\n",
       "    <tr>\n",
       "      <th>1</th>\n",
       "      <td>55.834058</td>\n",
       "      <td>37.323884</td>\n",
       "      <td>7047</td>\n",
       "      <td>None</td>\n",
       "      <td>-</td>\n",
       "    </tr>\n",
       "    <tr>\n",
       "      <th>2</th>\n",
       "      <td>55.802137</td>\n",
       "      <td>37.846993</td>\n",
       "      <td>8531</td>\n",
       "      <td>passenger</td>\n",
       "      <td>21</td>\n",
       "    </tr>\n",
       "    <tr>\n",
       "      <th>3</th>\n",
       "      <td>55.793141</td>\n",
       "      <td>37.526937</td>\n",
       "      <td>10417</td>\n",
       "      <td>passenger</td>\n",
       "      <td>2</td>\n",
       "    </tr>\n",
       "    <tr>\n",
       "      <th>4</th>\n",
       "      <td>55.818450</td>\n",
       "      <td>37.519013</td>\n",
       "      <td>10472</td>\n",
       "      <td>None</td>\n",
       "      <td>-</td>\n",
       "    </tr>\n",
       "  </tbody>\n",
       "</table>\n",
       "</div>"
      ],
      "text/plain": [
       "         lat        lon     id   elevator floor\n",
       "0  55.872131  37.640294   6017  passenger     4\n",
       "1  55.834058  37.323884   7047       None     -\n",
       "2  55.802137  37.846993   8531  passenger    21\n",
       "3  55.793141  37.526937  10417  passenger     2\n",
       "4  55.818450  37.519013  10472       None     -"
      ]
     },
     "execution_count": 11,
     "metadata": {},
     "output_type": "execute_result"
    }
   ],
   "source": [
    "addresses_sample = await query_res_to_df('select * from addresses limit 5')\n",
    "addresses_sample"
   ]
  },
  {
   "cell_type": "code",
   "execution_count": 12,
   "metadata": {},
   "outputs": [
    {
     "data": {
      "text/html": [
       "<div>\n",
       "<style scoped>\n",
       "    .dataframe tbody tr th:only-of-type {\n",
       "        vertical-align: middle;\n",
       "    }\n",
       "\n",
       "    .dataframe tbody tr th {\n",
       "        vertical-align: top;\n",
       "    }\n",
       "\n",
       "    .dataframe thead th {\n",
       "        text-align: right;\n",
       "    }\n",
       "</style>\n",
       "<table border=\"1\" class=\"dataframe\">\n",
       "  <thead>\n",
       "    <tr style=\"text-align: right;\">\n",
       "      <th></th>\n",
       "      <th>order_id</th>\n",
       "      <th>item_id</th>\n",
       "      <th>state</th>\n",
       "    </tr>\n",
       "  </thead>\n",
       "  <tbody>\n",
       "    <tr>\n",
       "      <th>0</th>\n",
       "      <td>3182881</td>\n",
       "      <td>5331852</td>\n",
       "      <td>canceled</td>\n",
       "    </tr>\n",
       "    <tr>\n",
       "      <th>1</th>\n",
       "      <td>3182881</td>\n",
       "      <td>5351271</td>\n",
       "      <td>canceled</td>\n",
       "    </tr>\n",
       "    <tr>\n",
       "      <th>2</th>\n",
       "      <td>3182881</td>\n",
       "      <td>5351087</td>\n",
       "      <td>canceled</td>\n",
       "    </tr>\n",
       "    <tr>\n",
       "      <th>3</th>\n",
       "      <td>3182881</td>\n",
       "      <td>5351090</td>\n",
       "      <td>canceled</td>\n",
       "    </tr>\n",
       "    <tr>\n",
       "      <th>4</th>\n",
       "      <td>3146329</td>\n",
       "      <td>5356620</td>\n",
       "      <td>canceled</td>\n",
       "    </tr>\n",
       "  </tbody>\n",
       "</table>\n",
       "</div>"
      ],
      "text/plain": [
       "   order_id  item_id     state\n",
       "0   3182881  5331852  canceled\n",
       "1   3182881  5351271  canceled\n",
       "2   3182881  5351087  canceled\n",
       "3   3182881  5351090  canceled\n",
       "4   3146329  5356620  canceled"
      ]
     },
     "execution_count": 12,
     "metadata": {},
     "output_type": "execute_result"
    }
   ],
   "source": [
    "cancellations_sample = await query_res_to_df('select * from cancellations limit 5')\n",
    "cancellations_sample"
   ]
  },
  {
   "cell_type": "code",
   "execution_count": 13,
   "metadata": {},
   "outputs": [
    {
     "data": {
      "text/html": [
       "<div>\n",
       "<style scoped>\n",
       "    .dataframe tbody tr th:only-of-type {\n",
       "        vertical-align: middle;\n",
       "    }\n",
       "\n",
       "    .dataframe tbody tr th {\n",
       "        vertical-align: top;\n",
       "    }\n",
       "\n",
       "    .dataframe thead th {\n",
       "        text-align: right;\n",
       "    }\n",
       "</style>\n",
       "<table border=\"1\" class=\"dataframe\">\n",
       "  <thead>\n",
       "    <tr style=\"text-align: right;\">\n",
       "      <th></th>\n",
       "      <th>order_id</th>\n",
       "      <th>item_id</th>\n",
       "      <th>state</th>\n",
       "    </tr>\n",
       "  </thead>\n",
       "  <tbody>\n",
       "    <tr>\n",
       "      <th>0</th>\n",
       "      <td>3190332</td>\n",
       "      <td>5332717</td>\n",
       "      <td>replaced</td>\n",
       "    </tr>\n",
       "    <tr>\n",
       "      <th>1</th>\n",
       "      <td>3190332</td>\n",
       "      <td>5332761</td>\n",
       "      <td>replaced</td>\n",
       "    </tr>\n",
       "    <tr>\n",
       "      <th>2</th>\n",
       "      <td>3097213</td>\n",
       "      <td>5332862</td>\n",
       "      <td>replaced</td>\n",
       "    </tr>\n",
       "    <tr>\n",
       "      <th>3</th>\n",
       "      <td>3097213</td>\n",
       "      <td>5332917</td>\n",
       "      <td>replaced</td>\n",
       "    </tr>\n",
       "    <tr>\n",
       "      <th>4</th>\n",
       "      <td>3188867</td>\n",
       "      <td>5440591</td>\n",
       "      <td>replaced</td>\n",
       "    </tr>\n",
       "  </tbody>\n",
       "</table>\n",
       "</div>"
      ],
      "text/plain": [
       "   order_id  item_id     state\n",
       "0   3190332  5332717  replaced\n",
       "1   3190332  5332761  replaced\n",
       "2   3097213  5332862  replaced\n",
       "3   3097213  5332917  replaced\n",
       "4   3188867  5440591  replaced"
      ]
     },
     "execution_count": 13,
     "metadata": {},
     "output_type": "execute_result"
    }
   ],
   "source": [
    "replacements_sample = await query_res_to_df('select * from replacements limit 5')\n",
    "replacements_sample"
   ]
  },
  {
   "cell_type": "code",
   "execution_count": 14,
   "metadata": {},
   "outputs": [],
   "source": [
    "def get_unique_query(table):\n",
    "    return f'''\n",
    "        select *\n",
    "        from (\n",
    "            select\n",
    "                *,\n",
    "                row_number() over (partition by id) as row_number\n",
    "            from {table}\n",
    "        ) as t\n",
    "        where row_number = 1\n",
    "    '''"
   ]
  },
  {
   "cell_type": "code",
   "execution_count": 15,
   "metadata": {},
   "outputs": [],
   "source": [
    "columns_query = []\n",
    "\n",
    "for (table, columns) in [\n",
    "    ('orders', orders_sample.columns),\n",
    "    ('stores', set(stores_sample.columns) - {'id'}),\n",
    "    ('dw', set(delivery_windows_sample.columns) - {'id', 'time_zone', 'store_id', 'delivery_window_id'}),\n",
    "    ('addresses', set(addresses_sample.columns) - {'id', 'elevator', 'floor', 'ship_address_id'}),\n",
    "    ('canceled', {'canceled_count'}),\n",
    "    ('replaced', {'replaced_count'}),\n",
    "]:\n",
    "    for column in columns:\n",
    "        columns_query.append(f'{table}.{column} as {column}')\n",
    "columns_query = ','.join(columns_query)"
   ]
  },
  {
   "cell_type": "code",
   "execution_count": 16,
   "metadata": {},
   "outputs": [],
   "source": [
    "delivery_windows = 'delivery_windows'\n",
    "\n",
    "# data_all = await query_res_to_df(f'''\n",
    "data = await query_res_to_df(f'''\n",
    "    select *\n",
    "    from (\n",
    "        select {columns_query}\n",
    "\n",
    "        from orders\n",
    "\n",
    "        left join ({get_unique_query(delivery_windows)}) as dw\n",
    "        on orders.delivery_window_id = dw.id\n",
    "\n",
    "        left join stores on orders.store_id = stores.id\n",
    "\n",
    "        left join addresses on orders.ship_address_id = addresses.id\n",
    "        \n",
    "        left join (\n",
    "            select order_id, count(1) as canceled_count\n",
    "            from cancellations\n",
    "            group by order_id\n",
    "        ) as canceled on orders.id = canceled.order_id\n",
    "        \n",
    "        left join (\n",
    "            select order_id, count(1) as replaced_count\n",
    "            from replacements\n",
    "            group by order_id\n",
    "        ) as replaced on orders.id = replaced.order_id\n",
    "    ) as t\n",
    "''')\n",
    "\n",
    "# data = data_all.sample(10000)"
   ]
  },
  {
   "cell_type": "code",
   "execution_count": 17,
   "metadata": {},
   "outputs": [
    {
     "data": {
      "text/plain": [
       "Index(['id', 'user_id', 'total_cost', 'cost', 'item_total', 'promo_total',\n",
       "       'total_weight', 'total_quantity', 'state', 'shipped_at', 'created_at',\n",
       "       'ship_address_id', 'store_id', 'delivery_window_id', 'city',\n",
       "       'retailer_id', 'starts_at', 'ends_at', 'lat', 'lon', 'canceled_count',\n",
       "       'replaced_count'],\n",
       "      dtype='object')"
      ]
     },
     "execution_count": 17,
     "metadata": {},
     "output_type": "execute_result"
    }
   ],
   "source": [
    "data.columns"
   ]
  },
  {
   "cell_type": "code",
   "execution_count": 18,
   "metadata": {},
   "outputs": [],
   "source": [
    "assert len(data.columns) == len(set(data.columns))"
   ]
  },
  {
   "cell_type": "code",
   "execution_count": 19,
   "metadata": {},
   "outputs": [],
   "source": [
    "data['canceled_count'] = data['canceled_count'].fillna(0)"
   ]
  },
  {
   "cell_type": "code",
   "execution_count": 20,
   "metadata": {},
   "outputs": [],
   "source": [
    "data['replaced_count'] = data['replaced_count'].fillna(0)"
   ]
  },
  {
   "cell_type": "code",
   "execution_count": 21,
   "metadata": {},
   "outputs": [],
   "source": [
    "# data['canceled_frac'] = data['canceled_count'] / data['total_quantity']"
   ]
  },
  {
   "cell_type": "code",
   "execution_count": 22,
   "metadata": {},
   "outputs": [],
   "source": [
    "# data['replaced_frac'] = data['replaced_count'] / data['total_quantity']"
   ]
  },
  {
   "cell_type": "code",
   "execution_count": 23,
   "metadata": {},
   "outputs": [],
   "source": [
    "data['is_damaged'] = (data['canceled_count'] > 0) | (data['replaced_count'] > 0)"
   ]
  },
  {
   "cell_type": "code",
   "execution_count": 24,
   "metadata": {},
   "outputs": [],
   "source": [
    "data['delivery_time'] = data['shipped_at'] - data['created_at']"
   ]
  },
  {
   "cell_type": "code",
   "execution_count": 25,
   "metadata": {},
   "outputs": [],
   "source": [
    "data['estimated_delivery_time'] = data['ends_at'] - data['created_at']"
   ]
  },
  {
   "cell_type": "code",
   "execution_count": 26,
   "metadata": {},
   "outputs": [],
   "source": [
    "data['month'] = data['created_at'].dt.strftime('%Y-%m')"
   ]
  },
  {
   "cell_type": "code",
   "execution_count": 27,
   "metadata": {},
   "outputs": [],
   "source": [
    "data['day_of_week'] = data['created_at'].dt.dayofweek"
   ]
  },
  {
   "cell_type": "code",
   "execution_count": 28,
   "metadata": {},
   "outputs": [],
   "source": [
    "data['day_of_week_shipped'] = data['shipped_at'].dt.dayofweek"
   ]
  },
  {
   "cell_type": "markdown",
   "metadata": {},
   "source": [
    "## Разделим средний чек покупки на дешевый, средний и дорогой"
   ]
  },
  {
   "cell_type": "code",
   "execution_count": 29,
   "metadata": {},
   "outputs": [
    {
     "data": {
      "text/plain": [
       "(6438.0, 3873.0, 2301.0)"
      ]
     },
     "execution_count": 29,
     "metadata": {},
     "output_type": "execute_result"
    },
    {
     "data": {
      "image/png": "[encoded data removed]",
      "text/plain": [
       "<Figure size 432x288 with 1 Axes>"
      ]
     },
     "metadata": {
      "needs_background": "light"
     },
     "output_type": "display_data"
    }
   ],
   "source": [
    "plt.hist(data['item_total'], bins=150);\n",
    "\n",
    "item_total_08 = data['item_total'].quantile(0.8)\n",
    "item_total_05 = data['item_total'].quantile(0.5)\n",
    "item_total_02 = data['item_total'].quantile(0.2)\n",
    "item_total_08, item_total_05, item_total_02"
   ]
  },
  {
   "cell_type": "code",
   "execution_count": 30,
   "metadata": {},
   "outputs": [],
   "source": [
    "cheap, middle = item_total_02, item_total_08"
   ]
  },
  {
   "cell_type": "code",
   "execution_count": 31,
   "metadata": {},
   "outputs": [],
   "source": [
    "data['item_total_class'] = 'cheap'\n",
    "data.loc[(data['item_total'] > cheap), 'item_total_class'] = 'middle'\n",
    "data.loc[(data['item_total'] > middle), 'item_total_class'] = 'expensive'"
   ]
  },
  {
   "cell_type": "markdown",
   "metadata": {},
   "source": [
    "## Доставлен ли товар вовремя?"
   ]
  },
  {
   "cell_type": "code",
   "execution_count": 32,
   "metadata": {},
   "outputs": [],
   "source": [
    "data['in_time'] = 'in_time'"
   ]
  },
  {
   "cell_type": "code",
   "execution_count": 33,
   "metadata": {},
   "outputs": [],
   "source": [
    "data.loc[(data['starts_at'] > data['shipped_at']), 'in_time'] = 'earlier'\n",
    "data.loc[(data['ends_at'] < data['shipped_at']), 'in_time'] = 'later'"
   ]
  },
  {
   "cell_type": "markdown",
   "metadata": {},
   "source": [
    "## Насколько раньше/позже привезли товар, чем ожидалось (в часах)"
   ]
  },
  {
   "cell_type": "code",
   "execution_count": 34,
   "metadata": {},
   "outputs": [],
   "source": [
    "data['delta_t'] = 0\n",
    "data.loc[(data['in_time'] == 'earlier'), 'delta_t'] = (data[data['in_time'] == 'earlier']['shipped_at'] - data[data['in_time'] == 'earlier']['starts_at']).dt.total_seconds() / 3600\n",
    "data.loc[(data['in_time'] == 'later'), 'delta_t'] = (data[data['in_time'] == 'later']['shipped_at'] - data[data['in_time'] == 'later']['ends_at']).dt.total_seconds() / 3600\n",
    "\n"
   ]
  },
  {
   "cell_type": "code",
   "execution_count": 35,
   "metadata": {},
   "outputs": [
    {
     "data": {
      "image/png": "[encoded data removed]",
      "text/plain": [
       "<Figure size 432x288 with 1 Axes>"
      ]
     },
     "metadata": {
      "needs_background": "light"
     },
     "output_type": "display_data"
    }
   ],
   "source": [
    "plt.hist(data['delta_t'], bins=50);"
   ]
  },
  {
   "cell_type": "markdown",
   "metadata": {},
   "source": [
    "## Сколько раз каждый пользователь применил промокод?"
   ]
  },
  {
   "cell_type": "code",
   "execution_count": 36,
   "metadata": {},
   "outputs": [],
   "source": [
    "data_promo = data[['user_id', 'cost', 'total_cost']][data['total_cost'] != data['cost']].groupby('user_id').count()\n",
    "\n",
    "data_promo['promo_count'] = data_promo['cost']\n",
    "data_promo = data_promo.drop(['cost', 'total_cost'], axis=1).reset_index()\n",
    "\n",
    "data = pd.merge(data, data_promo, how='left', on='user_id')\n",
    "data['promo_count'] = data['promo_count'].fillna(0)"
   ]
  },
  {
   "cell_type": "markdown",
   "metadata": {},
   "source": [
    "## Количество заказов от каждого пользователя"
   ]
  },
  {
   "cell_type": "code",
   "execution_count": 37,
   "metadata": {},
   "outputs": [],
   "source": [
    "data_order = data[['user_id', 'cost']].groupby('user_id').count()\n",
    "\n",
    "data_order['order_count'] = data_order['cost']\n",
    "data_order = data_order.drop(['cost'], axis=1).reset_index()\n",
    "data = pd.merge(data, data_order, how='left', on='user_id')"
   ]
  },
  {
   "cell_type": "markdown",
   "metadata": {},
   "source": [
    "## Возвращаются ли клиенты после первого заказа?"
   ]
  },
  {
   "cell_type": "code",
   "execution_count": 38,
   "metadata": {},
   "outputs": [],
   "source": [
    "data['old_client'] = data['order_count'] > 1"
   ]
  },
  {
   "cell_type": "markdown",
   "metadata": {},
   "source": [
    "## Средний чек клиента"
   ]
  },
  {
   "cell_type": "code",
   "execution_count": 39,
   "metadata": {},
   "outputs": [],
   "source": [
    "data_item_total = data[['user_id', 'item_total']].groupby('user_id').sum()\n",
    "data_item_total['item_total_avg'] = data_item_total['item_total']\n",
    "data_item_total = data_item_total.drop(['item_total'], axis=1).reset_index()\n",
    "data = pd.merge(data, data_item_total, how='left', on='user_id')\n",
    "data['item_total_avg'] = data['item_total_avg'] / data['order_count']"
   ]
  },
  {
   "cell_type": "markdown",
   "metadata": {},
   "source": [
    "## Разделение клиентов на классы"
   ]
  },
  {
   "cell_type": "code",
   "execution_count": 40,
   "metadata": {},
   "outputs": [
    {
     "data": {
      "text/plain": [
       "(6254.100000000006, 4090.0, 2704.1428571428573)"
      ]
     },
     "execution_count": 40,
     "metadata": {},
     "output_type": "execute_result"
    },
    {
     "data": {
      "image/png": "[encoded data removed]",
      "text/plain": [
       "<Figure size 432x288 with 1 Axes>"
      ]
     },
     "metadata": {
      "needs_background": "light"
     },
     "output_type": "display_data"
    }
   ],
   "source": [
    "plt.hist(data['item_total_avg'], bins=50);\n",
    "\n",
    "item_total_avg_08 = data['item_total_avg'].quantile(0.8)\n",
    "item_total_avg_05 = data['item_total_avg'].quantile(0.5)\n",
    "item_total_avg_02 = data['item_total_avg'].quantile(0.2)\n",
    "item_total_avg_08, item_total_avg_05, item_total_avg_02"
   ]
  },
  {
   "cell_type": "code",
   "execution_count": 41,
   "metadata": {},
   "outputs": [],
   "source": [
    "middle, low = item_total_avg_08, item_total_avg_02"
   ]
  },
  {
   "cell_type": "code",
   "execution_count": 42,
   "metadata": {},
   "outputs": [],
   "source": [
    "data['user_class'] = 'low'\n",
    "data.loc[(data['item_total_avg'] > low), 'user_class'] = 'middle'\n",
    "data.loc[(data['item_total_avg'] > middle), 'user_class'] = 'high'"
   ]
  },
  {
   "cell_type": "markdown",
   "metadata": {},
   "source": [
    "## Разбить количество товаров по классам"
   ]
  },
  {
   "cell_type": "code",
   "execution_count": 43,
   "metadata": {},
   "outputs": [
    {
     "data": {
      "text/plain": [
       "(111.0, 31.0, 10.0)"
      ]
     },
     "execution_count": 43,
     "metadata": {},
     "output_type": "execute_result"
    },
    {
     "data": {
      "image/png": "[encoded data removed]",
      "text/plain": [
       "<Figure size 432x288 with 1 Axes>"
      ]
     },
     "metadata": {
      "needs_background": "light"
     },
     "output_type": "display_data"
    }
   ],
   "source": [
    "plt.hist(data['total_quantity'], bins=50);\n",
    "\n",
    "total_quantity_095 = data['total_quantity'].quantile(0.95)\n",
    "total_quantity_05 = data['total_quantity'].quantile(0.5)\n",
    "total_quantity_01 = data['total_quantity'].quantile(0.1)\n",
    "total_quantity_095, total_quantity_05, total_quantity_01"
   ]
  },
  {
   "cell_type": "code",
   "execution_count": 44,
   "metadata": {},
   "outputs": [],
   "source": [
    "mid, few = 30, 10"
   ]
  },
  {
   "cell_type": "code",
   "execution_count": 45,
   "metadata": {},
   "outputs": [],
   "source": [
    "data['total_quantity_class'] = 'few'\n",
    "data.loc[(data['total_quantity'] > few), 'total_quantity_class'] = 'mid'\n",
    "data.loc[(data['total_quantity'] > middle), 'total_quantity_class'] = 'many'"
   ]
  },
  {
   "cell_type": "markdown",
   "metadata": {},
   "source": [
    "## Разбить вес заказа по классам"
   ]
  },
  {
   "cell_type": "code",
   "execution_count": 46,
   "metadata": {},
   "outputs": [
    {
     "data": {
      "text/plain": [
       "(36700.0, 18180.0, 8090.0)"
      ]
     },
     "execution_count": 46,
     "metadata": {},
     "output_type": "execute_result"
    },
    {
     "data": {
      "image/png": "[encoded data removed]",
      "text/plain": [
       "<Figure size 432x288 with 1 Axes>"
      ]
     },
     "metadata": {
      "needs_background": "light"
     },
     "output_type": "display_data"
    }
   ],
   "source": [
    "plt.hist(data['total_weight'], bins=50);\n",
    "\n",
    "total_weight_08 = data['total_weight'].quantile(0.8)\n",
    "total_weight_05 = data['total_weight'].quantile(0.5)\n",
    "total_weight_02 = data['total_weight'].quantile(0.2)\n",
    "total_weight_08, total_weight_05, total_weight_02"
   ]
  },
  {
   "cell_type": "code",
   "execution_count": 47,
   "metadata": {},
   "outputs": [],
   "source": [
    "middle, light = total_weight_08, total_weight_02"
   ]
  },
  {
   "cell_type": "code",
   "execution_count": 48,
   "metadata": {},
   "outputs": [],
   "source": [
    "data['total_weight_class'] = 'light'\n",
    "data.loc[(data['total_weight'] > light), 'total_weight_class'] = 'mid'\n",
    "data.loc[(data['total_weight'] > middle), 'total_weight_class'] = 'heavy'"
   ]
  },
  {
   "cell_type": "markdown",
   "metadata": {},
   "source": [
    "## Разбить по городам"
   ]
  },
  {
   "cell_type": "code",
   "execution_count": 49,
   "metadata": {},
   "outputs": [],
   "source": [
    "data[\"lat\"] = data[\"lat\"].fillna(-50)\n",
    "data[\"lon\"] = data[\"lon\"].fillna(-50)"
   ]
  },
  {
   "cell_type": "code",
   "execution_count": 50,
   "metadata": {},
   "outputs": [
    {
     "data": {
      "text/plain": [
       "<matplotlib.collections.PathCollection at 0x7f9e635c7240>"
      ]
     },
     "execution_count": 50,
     "metadata": {},
     "output_type": "execute_result"
    },
    {
     "data": {
      "image/png": "[encoded data removed]",
      "text/plain": [
       "<Figure size 432x288 with 1 Axes>"
      ]
     },
     "metadata": {
      "needs_background": "light"
     },
     "output_type": "display_data"
    }
   ],
   "source": [
    "plt.scatter(data[\"lat\"], data[\"lon\"], s=10, alpha=0.4)"
   ]
  },
  {
   "cell_type": "code",
   "execution_count": 51,
   "metadata": {},
   "outputs": [],
   "source": [
    "from sklearn.cluster import KMeans"
   ]
  },
  {
   "cell_type": "code",
   "execution_count": 52,
   "metadata": {},
   "outputs": [],
   "source": [
    "X = data[['lat', 'lon']].values"
   ]
  },
  {
   "cell_type": "code",
   "execution_count": 53,
   "metadata": {},
   "outputs": [],
   "source": [
    "city = KMeans(n_clusters=8, random_state=1).fit_predict(X)\n",
    "data['city'] = city"
   ]
  },
  {
   "cell_type": "code",
   "execution_count": 54,
   "metadata": {},
   "outputs": [
    {
     "data": {
      "text/plain": [
       "<matplotlib.collections.PathCollection at 0x7f9e64663198>"
      ]
     },
     "execution_count": 54,
     "metadata": {},
     "output_type": "execute_result"
    },
    {
     "data": {
      "image/png": "[encoded data removed]",
      "text/plain": [
       "<Figure size 432x288 with 1 Axes>"
      ]
     },
     "metadata": {
      "needs_background": "light"
     },
     "output_type": "display_data"
    }
   ],
   "source": [
    "plt.scatter(data[\"lat\"], data[\"lon\"], s=10, alpha=0.4, c=data['city'])"
   ]
  },
  {
   "cell_type": "markdown",
   "metadata": {},
   "source": [
    "## Перевести timestamp в более удобный формат"
   ]
  },
  {
   "cell_type": "code",
   "execution_count": 76,
   "metadata": {},
   "outputs": [
    {
     "data": {
      "text/html": [
       "<div>\n",
       "<style scoped>\n",
       "    .dataframe tbody tr th:only-of-type {\n",
       "        vertical-align: middle;\n",
       "    }\n",
       "\n",
       "    .dataframe tbody tr th {\n",
       "        vertical-align: top;\n",
       "    }\n",
       "\n",
       "    .dataframe thead th {\n",
       "        text-align: right;\n",
       "    }\n",
       "</style>\n",
       "<table border=\"1\" class=\"dataframe\">\n",
       "  <thead>\n",
       "    <tr style=\"text-align: right;\">\n",
       "      <th></th>\n",
       "      <th>0</th>\n",
       "      <th>1</th>\n",
       "      <th>2</th>\n",
       "      <th>3</th>\n",
       "      <th>4</th>\n",
       "    </tr>\n",
       "  </thead>\n",
       "  <tbody>\n",
       "    <tr>\n",
       "      <th>id</th>\n",
       "      <td>2685517</td>\n",
       "      <td>3541033</td>\n",
       "      <td>3552719</td>\n",
       "      <td>3998074</td>\n",
       "      <td>3523221</td>\n",
       "    </tr>\n",
       "    <tr>\n",
       "      <th>user_id</th>\n",
       "      <td>10981</td>\n",
       "      <td>13747</td>\n",
       "      <td>55320</td>\n",
       "      <td>17229</td>\n",
       "      <td>17299</td>\n",
       "    </tr>\n",
       "    <tr>\n",
       "      <th>total_cost</th>\n",
       "      <td>199</td>\n",
       "      <td>299</td>\n",
       "      <td>398</td>\n",
       "      <td>249</td>\n",
       "      <td>0</td>\n",
       "    </tr>\n",
       "    <tr>\n",
       "      <th>cost</th>\n",
       "      <td>249</td>\n",
       "      <td>299</td>\n",
       "      <td>398</td>\n",
       "      <td>249</td>\n",
       "      <td>1042</td>\n",
       "    </tr>\n",
       "    <tr>\n",
       "      <th>item_total</th>\n",
       "      <td>4901</td>\n",
       "      <td>2093</td>\n",
       "      <td>8644</td>\n",
       "      <td>8424</td>\n",
       "      <td>7149</td>\n",
       "    </tr>\n",
       "    <tr>\n",
       "      <th>promo_total</th>\n",
       "      <td>0</td>\n",
       "      <td>0</td>\n",
       "      <td>0</td>\n",
       "      <td>0</td>\n",
       "      <td>0</td>\n",
       "    </tr>\n",
       "    <tr>\n",
       "      <th>total_weight</th>\n",
       "      <td>8493</td>\n",
       "      <td>14434</td>\n",
       "      <td>79214</td>\n",
       "      <td>40715</td>\n",
       "      <td>51826</td>\n",
       "    </tr>\n",
       "    <tr>\n",
       "      <th>total_quantity</th>\n",
       "      <td>26</td>\n",
       "      <td>36</td>\n",
       "      <td>78</td>\n",
       "      <td>62</td>\n",
       "      <td>114</td>\n",
       "    </tr>\n",
       "    <tr>\n",
       "      <th>state</th>\n",
       "      <td>shipped</td>\n",
       "      <td>shipped</td>\n",
       "      <td>shipped</td>\n",
       "      <td>shipped</td>\n",
       "      <td>shipped</td>\n",
       "    </tr>\n",
       "    <tr>\n",
       "      <th>shipped_at</th>\n",
       "      <td>2019-04-11 10:58:00</td>\n",
       "      <td>2018-06-23 11:31:01</td>\n",
       "      <td>2018-07-19 20:46:51</td>\n",
       "      <td>2018-11-20 15:46:00</td>\n",
       "      <td>2018-08-04 20:49:11</td>\n",
       "    </tr>\n",
       "    <tr>\n",
       "      <th>created_at</th>\n",
       "      <td>2019-04-10 21:05:11</td>\n",
       "      <td>2018-06-22 09:05:38</td>\n",
       "      <td>2018-07-19 14:40:23</td>\n",
       "      <td>2018-11-19 18:20:11</td>\n",
       "      <td>2018-07-31 12:55:36</td>\n",
       "    </tr>\n",
       "    <tr>\n",
       "      <th>ship_address_id</th>\n",
       "      <td>46195</td>\n",
       "      <td>46298</td>\n",
       "      <td>48381</td>\n",
       "      <td>53918</td>\n",
       "      <td>54086</td>\n",
       "    </tr>\n",
       "    <tr>\n",
       "      <th>store_id</th>\n",
       "      <td>68</td>\n",
       "      <td>14</td>\n",
       "      <td>12</td>\n",
       "      <td>9</td>\n",
       "      <td>11</td>\n",
       "    </tr>\n",
       "    <tr>\n",
       "      <th>delivery_window_id</th>\n",
       "      <td>463950</td>\n",
       "      <td>178105</td>\n",
       "      <td>195818</td>\n",
       "      <td>307133</td>\n",
       "      <td>209179</td>\n",
       "    </tr>\n",
       "    <tr>\n",
       "      <th>city</th>\n",
       "      <td>0</td>\n",
       "      <td>0</td>\n",
       "      <td>0</td>\n",
       "      <td>0</td>\n",
       "      <td>0</td>\n",
       "    </tr>\n",
       "    <tr>\n",
       "      <th>retailer_id</th>\n",
       "      <td>1</td>\n",
       "      <td>1</td>\n",
       "      <td>1</td>\n",
       "      <td>1</td>\n",
       "      <td>1</td>\n",
       "    </tr>\n",
       "    <tr>\n",
       "      <th>starts_at</th>\n",
       "      <td>2019-04-11 11:00:00</td>\n",
       "      <td>2018-06-23 09:00:00</td>\n",
       "      <td>2018-07-19 20:00:00</td>\n",
       "      <td>2018-11-20 16:00:00</td>\n",
       "      <td>2018-08-04 17:00:00</td>\n",
       "    </tr>\n",
       "    <tr>\n",
       "      <th>ends_at</th>\n",
       "      <td>2019-04-11 13:00:00</td>\n",
       "      <td>2018-06-23 11:00:00</td>\n",
       "      <td>2018-07-19 22:00:00</td>\n",
       "      <td>2018-11-20 18:00:00</td>\n",
       "      <td>2018-08-04 19:00:00</td>\n",
       "    </tr>\n",
       "    <tr>\n",
       "      <th>lat</th>\n",
       "      <td>55.6141</td>\n",
       "      <td>55.7218</td>\n",
       "      <td>55.7694</td>\n",
       "      <td>55.8753</td>\n",
       "      <td>55.7731</td>\n",
       "    </tr>\n",
       "    <tr>\n",
       "      <th>lon</th>\n",
       "      <td>37.7107</td>\n",
       "      <td>37.5137</td>\n",
       "      <td>37.667</td>\n",
       "      <td>37.5369</td>\n",
       "      <td>37.4649</td>\n",
       "    </tr>\n",
       "    <tr>\n",
       "      <th>canceled_count</th>\n",
       "      <td>0</td>\n",
       "      <td>4</td>\n",
       "      <td>4</td>\n",
       "      <td>0</td>\n",
       "      <td>11</td>\n",
       "    </tr>\n",
       "    <tr>\n",
       "      <th>replaced_count</th>\n",
       "      <td>0</td>\n",
       "      <td>3</td>\n",
       "      <td>0</td>\n",
       "      <td>0</td>\n",
       "      <td>9</td>\n",
       "    </tr>\n",
       "    <tr>\n",
       "      <th>is_damaged</th>\n",
       "      <td>False</td>\n",
       "      <td>True</td>\n",
       "      <td>True</td>\n",
       "      <td>False</td>\n",
       "      <td>True</td>\n",
       "    </tr>\n",
       "    <tr>\n",
       "      <th>delivery_time</th>\n",
       "      <td>13.8803</td>\n",
       "      <td>26.4231</td>\n",
       "      <td>6.10778</td>\n",
       "      <td>21.4303</td>\n",
       "      <td>103.893</td>\n",
       "    </tr>\n",
       "    <tr>\n",
       "      <th>estimated_delivery_time</th>\n",
       "      <td>15.9136</td>\n",
       "      <td>25.9061</td>\n",
       "      <td>7.32694</td>\n",
       "      <td>23.6636</td>\n",
       "      <td>102.073</td>\n",
       "    </tr>\n",
       "    <tr>\n",
       "      <th>month</th>\n",
       "      <td>2019-04</td>\n",
       "      <td>2018-06</td>\n",
       "      <td>2018-07</td>\n",
       "      <td>2018-11</td>\n",
       "      <td>2018-07</td>\n",
       "    </tr>\n",
       "    <tr>\n",
       "      <th>day_of_week</th>\n",
       "      <td>2</td>\n",
       "      <td>4</td>\n",
       "      <td>3</td>\n",
       "      <td>0</td>\n",
       "      <td>1</td>\n",
       "    </tr>\n",
       "    <tr>\n",
       "      <th>day_of_week_shipped</th>\n",
       "      <td>3</td>\n",
       "      <td>5</td>\n",
       "      <td>3</td>\n",
       "      <td>1</td>\n",
       "      <td>5</td>\n",
       "    </tr>\n",
       "    <tr>\n",
       "      <th>item_total_class</th>\n",
       "      <td>middle</td>\n",
       "      <td>cheap</td>\n",
       "      <td>expensive</td>\n",
       "      <td>expensive</td>\n",
       "      <td>expensive</td>\n",
       "    </tr>\n",
       "    <tr>\n",
       "      <th>in_time</th>\n",
       "      <td>earlier</td>\n",
       "      <td>later</td>\n",
       "      <td>in_time</td>\n",
       "      <td>earlier</td>\n",
       "      <td>later</td>\n",
       "    </tr>\n",
       "    <tr>\n",
       "      <th>delta_t</th>\n",
       "      <td>-0.0333333</td>\n",
       "      <td>0.516944</td>\n",
       "      <td>0</td>\n",
       "      <td>-0.233333</td>\n",
       "      <td>1.81972</td>\n",
       "    </tr>\n",
       "    <tr>\n",
       "      <th>promo_count</th>\n",
       "      <td>2</td>\n",
       "      <td>0</td>\n",
       "      <td>0</td>\n",
       "      <td>0</td>\n",
       "      <td>3</td>\n",
       "    </tr>\n",
       "    <tr>\n",
       "      <th>order_count</th>\n",
       "      <td>2</td>\n",
       "      <td>19</td>\n",
       "      <td>13</td>\n",
       "      <td>1</td>\n",
       "      <td>12</td>\n",
       "    </tr>\n",
       "    <tr>\n",
       "      <th>old_client</th>\n",
       "      <td>True</td>\n",
       "      <td>True</td>\n",
       "      <td>True</td>\n",
       "      <td>False</td>\n",
       "      <td>True</td>\n",
       "    </tr>\n",
       "    <tr>\n",
       "      <th>item_total_avg</th>\n",
       "      <td>4378</td>\n",
       "      <td>2813.84</td>\n",
       "      <td>8213.85</td>\n",
       "      <td>8424</td>\n",
       "      <td>4583.67</td>\n",
       "    </tr>\n",
       "    <tr>\n",
       "      <th>user_class</th>\n",
       "      <td>middle</td>\n",
       "      <td>middle</td>\n",
       "      <td>high</td>\n",
       "      <td>high</td>\n",
       "      <td>middle</td>\n",
       "    </tr>\n",
       "    <tr>\n",
       "      <th>total_quantity_class</th>\n",
       "      <td>mid</td>\n",
       "      <td>mid</td>\n",
       "      <td>mid</td>\n",
       "      <td>mid</td>\n",
       "      <td>mid</td>\n",
       "    </tr>\n",
       "    <tr>\n",
       "      <th>total_weight_class</th>\n",
       "      <td>mid</td>\n",
       "      <td>mid</td>\n",
       "      <td>heavy</td>\n",
       "      <td>heavy</td>\n",
       "      <td>heavy</td>\n",
       "    </tr>\n",
       "  </tbody>\n",
       "</table>\n",
       "</div>"
      ],
      "text/plain": [
       "                                           0                    1  \\\n",
       "id                                   2685517              3541033   \n",
       "user_id                                10981                13747   \n",
       "total_cost                               199                  299   \n",
       "cost                                     249                  299   \n",
       "item_total                              4901                 2093   \n",
       "promo_total                                0                    0   \n",
       "total_weight                            8493                14434   \n",
       "total_quantity                            26                   36   \n",
       "state                                shipped              shipped   \n",
       "shipped_at               2019-04-11 10:58:00  2018-06-23 11:31:01   \n",
       "created_at               2019-04-10 21:05:11  2018-06-22 09:05:38   \n",
       "ship_address_id                        46195                46298   \n",
       "store_id                                  68                   14   \n",
       "delivery_window_id                    463950               178105   \n",
       "city                                       0                    0   \n",
       "retailer_id                                1                    1   \n",
       "starts_at                2019-04-11 11:00:00  2018-06-23 09:00:00   \n",
       "ends_at                  2019-04-11 13:00:00  2018-06-23 11:00:00   \n",
       "lat                                  55.6141              55.7218   \n",
       "lon                                  37.7107              37.5137   \n",
       "canceled_count                             0                    4   \n",
       "replaced_count                             0                    3   \n",
       "is_damaged                             False                 True   \n",
       "delivery_time                        13.8803              26.4231   \n",
       "estimated_delivery_time              15.9136              25.9061   \n",
       "month                                2019-04              2018-06   \n",
       "day_of_week                                2                    4   \n",
       "day_of_week_shipped                        3                    5   \n",
       "item_total_class                      middle                cheap   \n",
       "in_time                              earlier                later   \n",
       "delta_t                           -0.0333333             0.516944   \n",
       "promo_count                                2                    0   \n",
       "order_count                                2                   19   \n",
       "old_client                              True                 True   \n",
       "item_total_avg                          4378              2813.84   \n",
       "user_class                            middle               middle   \n",
       "total_quantity_class                     mid                  mid   \n",
       "total_weight_class                       mid                  mid   \n",
       "\n",
       "                                           2                    3  \\\n",
       "id                                   3552719              3998074   \n",
       "user_id                                55320                17229   \n",
       "total_cost                               398                  249   \n",
       "cost                                     398                  249   \n",
       "item_total                              8644                 8424   \n",
       "promo_total                                0                    0   \n",
       "total_weight                           79214                40715   \n",
       "total_quantity                            78                   62   \n",
       "state                                shipped              shipped   \n",
       "shipped_at               2018-07-19 20:46:51  2018-11-20 15:46:00   \n",
       "created_at               2018-07-19 14:40:23  2018-11-19 18:20:11   \n",
       "ship_address_id                        48381                53918   \n",
       "store_id                                  12                    9   \n",
       "delivery_window_id                    195818               307133   \n",
       "city                                       0                    0   \n",
       "retailer_id                                1                    1   \n",
       "starts_at                2018-07-19 20:00:00  2018-11-20 16:00:00   \n",
       "ends_at                  2018-07-19 22:00:00  2018-11-20 18:00:00   \n",
       "lat                                  55.7694              55.8753   \n",
       "lon                                   37.667              37.5369   \n",
       "canceled_count                             4                    0   \n",
       "replaced_count                             0                    0   \n",
       "is_damaged                              True                False   \n",
       "delivery_time                        6.10778              21.4303   \n",
       "estimated_delivery_time              7.32694              23.6636   \n",
       "month                                2018-07              2018-11   \n",
       "day_of_week                                3                    0   \n",
       "day_of_week_shipped                        3                    1   \n",
       "item_total_class                   expensive            expensive   \n",
       "in_time                              in_time              earlier   \n",
       "delta_t                                    0            -0.233333   \n",
       "promo_count                                0                    0   \n",
       "order_count                               13                    1   \n",
       "old_client                              True                False   \n",
       "item_total_avg                       8213.85                 8424   \n",
       "user_class                              high                 high   \n",
       "total_quantity_class                     mid                  mid   \n",
       "total_weight_class                     heavy                heavy   \n",
       "\n",
       "                                           4  \n",
       "id                                   3523221  \n",
       "user_id                                17299  \n",
       "total_cost                                 0  \n",
       "cost                                    1042  \n",
       "item_total                              7149  \n",
       "promo_total                                0  \n",
       "total_weight                           51826  \n",
       "total_quantity                           114  \n",
       "state                                shipped  \n",
       "shipped_at               2018-08-04 20:49:11  \n",
       "created_at               2018-07-31 12:55:36  \n",
       "ship_address_id                        54086  \n",
       "store_id                                  11  \n",
       "delivery_window_id                    209179  \n",
       "city                                       0  \n",
       "retailer_id                                1  \n",
       "starts_at                2018-08-04 17:00:00  \n",
       "ends_at                  2018-08-04 19:00:00  \n",
       "lat                                  55.7731  \n",
       "lon                                  37.4649  \n",
       "canceled_count                            11  \n",
       "replaced_count                             9  \n",
       "is_damaged                              True  \n",
       "delivery_time                        103.893  \n",
       "estimated_delivery_time              102.073  \n",
       "month                                2018-07  \n",
       "day_of_week                                1  \n",
       "day_of_week_shipped                        5  \n",
       "item_total_class                   expensive  \n",
       "in_time                                later  \n",
       "delta_t                              1.81972  \n",
       "promo_count                                3  \n",
       "order_count                               12  \n",
       "old_client                              True  \n",
       "item_total_avg                       4583.67  \n",
       "user_class                            middle  \n",
       "total_quantity_class                     mid  \n",
       "total_weight_class                     heavy  "
      ]
     },
     "execution_count": 76,
     "metadata": {},
     "output_type": "execute_result"
    }
   ],
   "source": [
    "data.head().T"
   ]
  },
  {
   "cell_type": "code",
   "execution_count": 59,
   "metadata": {},
   "outputs": [],
   "source": [
    "data['delivery_time'] = data['delivery_time'].dt.total_seconds() / 3600"
   ]
  },
  {
   "cell_type": "code",
   "execution_count": 61,
   "metadata": {},
   "outputs": [],
   "source": [
    "data['estimated_delivery_time'] = data['estimated_delivery_time'].dt.total_seconds() / 3600"
   ]
  },
  {
   "cell_type": "code",
   "execution_count": 78,
   "metadata": {},
   "outputs": [],
   "source": [
    "for col in ['shipped_at', 'created_at', 'starts_at', 'ends_at']:\n",
    "    data[col] = (data[col] - pd.datetime(year=2018, month=1, day=1)).dt.total_seconds() / 3600"
   ]
  },
  {
   "cell_type": "code",
   "execution_count": 79,
   "metadata": {},
   "outputs": [],
   "source": [
    "data.to_csv('data.csv')"
   ]
  },
  {
   "cell_type": "code",
   "execution_count": null,
   "metadata": {},
   "outputs": [],
   "source": []
  }
 ],
 "metadata": {
  "@webio": {
   "lastCommId": null,
   "lastKernelId": null
  },
  "kernelspec": {
   "display_name": "Python 3",
   "language": "python",
   "name": "python3"
  },
  "language_info": {
   "codemirror_mode": {
    "name": "ipython",
    "version": 3
   },
   "file_extension": ".py",
   "mimetype": "text/x-python",
   "name": "python",
   "nbconvert_exporter": "python",
   "pygments_lexer": "ipython3",
   "version": "3.7.3"
  }
 },
 "nbformat": 4,
 "nbformat_minor": 2
}
